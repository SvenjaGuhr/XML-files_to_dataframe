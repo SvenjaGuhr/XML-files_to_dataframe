{
 "cells": [
  {
   "cell_type": "code",
   "execution_count": 1,
   "id": "6d34c1ec",
   "metadata": {},
   "outputs": [],
   "source": [
    "import os\n",
    "import regex as re\n",
    "import pandas as pd\n",
    "import spacy\n",
    "from pathlib import Path\n",
    "from collections import Counter"
   ]
  },
  {
   "cell_type": "code",
   "execution_count": 2,
   "id": "e0ff5655",
   "metadata": {},
   "outputs": [],
   "source": [
    "# Read in the text file and make sure it's encoded in UTF-8. \n",
    "# Please change it to your respective file path.\n",
    "\n",
    "text = open(\"corpus/Potter_Rabbit_anno_20.01.xml\", mode='r', encoding='utf-8-sig').read()\n",
    "#text[:100]"
   ]
  },
  {
   "cell_type": "code",
   "execution_count": 3,
   "id": "58478278",
   "metadata": {},
   "outputs": [],
   "source": [
    "# Regular expression pattern to match <sound>...</sound>\n",
    "pattern = r'(<sound>[A-Za-z]+</sound>)'\n",
    "\n",
    "# Find all matches in the text\n",
    "sound_words = re.findall(pattern, text)\n",
    "\n",
    "# Print the list of matches\n",
    "#print(sound_words)"
   ]
  },
  {
   "cell_type": "code",
   "execution_count": 4,
   "id": "4ad32e6f",
   "metadata": {},
   "outputs": [],
   "source": [
    "pattern = r'(?s)\\<\\?xml version=\"1.0\" encoding=\"UTF-8\"\\?>.*?<body>'\n",
    "pattern2 = r'(?s)\\</body>.*?</TEI>'\n",
    "\n",
    "# Use re.sub to remove the matched portion from the text\n",
    "text_without_match = re.sub(pattern, '', text)\n",
    "text_without_match = re.sub(pattern2, '', text_without_match)\n",
    "\n",
    "#print(text_without_match)"
   ]
  },
  {
   "cell_type": "code",
   "execution_count": 5,
   "id": "cc71b1d6",
   "metadata": {},
   "outputs": [
    {
     "data": {
      "text/plain": [
       "\" TALE OF PETER RABBIT Beatrix Potter Once upon a time there were four little Rabbits and their names were -- Flopsy Mopsy Cotton-tail and Peter. They lived with their Mother in a sand-bank underneath the root of a very big fir-tree. Now my dears said old Mrs. Rabbit one morning you may go into the fields or down the lane but do n't go into Mr. McGregor s garden: your Father had an accident there he was put in a pie by Mrs. McGregor. Now run along and do n't get into mischief. I am going out. Then old Mrs. Rabbit took a basket and her umbrella and went through the wood to the baker s. She bought a loaf of brown bread and five currant buns. Flopsy Mopsy and Cottontail who were good little bunnies went down the lane to gather blackberries: But Peter who was very naughty ran straight away to Mr. McGregor s garden and squeezed under the gate! First he ate some lettuces and some French beans and then he ate some radishes And then feeling rather sick he went to look for some parsley. But round the end of a cucumber frame whom should he meet but Mr. McGregor! Mr. McGregor was on his hands and knees planting out young cabbages but he jumped up and ran after Peter waving a rake and calling out Stop thief! Peter was most dreadfully frightened he rushed all over the garden for he had forgotten the way back to the gate. He lost one of his shoes among the cabbages and the other shoe amongst the potatoes. After losing them he ran on four legs and went faster so that I think he might have got away altogether if he had not unfortunately run into a gooseberry net and got caught by the large buttons on his jacket. It was a blue jacket with brass buttons quite new. Peter gave himself up for lost and shed big tears but his <sound>sobs</sound> were overheard by some friendly sparrows who flew to him in great excitement and implored him to exert himself. Mr. McGregor came up with a sieve which he intended to pop upon the top of Peter but Peter wriggled out just in time leaving his jacket behind him. And rushed into the tool-shed and jumped into a can. It would have been a beautiful thing to hide in if it had not had so much water in it. Mr. McGregor was quite sure that Peter was somewhere in the tool-shed perhaps hidden underneath a flower-pot. He began to turn them over carefully looking under each. Presently Peter <sound>sneezed</sound> -- <sound>Kertyschoo</sound>! Mr. McGregor was after him in no time. And tried to put his foot upon Peter who jumped out of a window upsetting three plants. The window was too small for Mr. McGregor and he was tired of running after Peter. He went back to his work. Peter sat down to rest he was out of breath and trembling with fright and he had not the least idea which way to go. Also he was very damp with sitting in that can. After a time he began to wander about going lippity -- lippity -- not very fast and looking all round. He found a door in a wall but it was locked and there was no room for a fat little rabbit to squeeze underneath. An old mouse was running in and out over the stone doorstep carrying peas and beans to her family in the wood. Peter asked her the way to the gate but she had such a large pea in her mouth that she could not answer. She only shook her head at him. Peter began to <sound>cry</sound>. Then he tried to find his way straight across the garden but he became more and more puzzled. Presently he came to a pond where Mr. McGregor filled his water-cans. A white cat was staring at some gold-fish she sat very very still but now and then the tip of her tail twitched as if it were alive. Peter thought it best to go away without speaking to her he had heard about cats from his cousin little Benjamin Bunny. He went back towards the tool-shed but suddenly quite close to him he heard the <sound>noise</sound> of a hoe -- <sound>scr-r-ritch</sound> <sound>scratch</sound> <sound>scratch</sound> <sound>scritch</sound>. Peter scuttered underneath the bushes. But presently as nothing happened he came out and climbed upon a wheelbarrow and peeped over. The first thing he saw was Mr. McGregor hoeing onions. His back was turned towards Peter and beyond him was the gate! Peter got down very <sound>quietly</sound> off the wheelbarrow and started running as fast as he could go along a straight walk behind some black-currant bushes. Mr. McGregor caught sight of him at the corner but Peter did not care. He slipped underneath the gate and was safe at last in the wood outside the garden. Mr. McGregor hung up the little jacket and the shoes for a scare-crow to frighten the blackbirds. Peter never stopped running or looked behind him till he got home to the big fir-tree. He was so tired that he flopped down upon the nice soft sand on the floor of the rabbit-hole and shut his eyes. His mother was busy cooking she wondered what he had done with his clothes. It was the second little jacket and pair of shoes that Peter had lost in a fortnight! I am sorry to say that Peter was not very well during the evening. His mother put him to bed and made some camomile tea and she gave a dose of it to Peter! One table-spoonful to be taken at bed-time. But Flopsy Mopsy and Cotton-tail had bread and milk and blackberries for supper. \""
      ]
     },
     "execution_count": 5,
     "metadata": {},
     "output_type": "execute_result"
    }
   ],
   "source": [
    "text_without_match = re.sub('\\n+', ' ', text_without_match)\n",
    "text_without_match = re.sub('\\s+', ' ', text_without_match)\n",
    "text_without_match"
   ]
  },
  {
   "cell_type": "code",
   "execution_count": 6,
   "id": "47549baf",
   "metadata": {},
   "outputs": [
    {
     "name": "stderr",
     "output_type": "stream",
     "text": [
      "/Users/guhr/opt/anaconda3/lib/python3.9/site-packages/spacy/util.py:910: UserWarning: [W095] Model 'en_core_web_sm' (3.2.0) was trained with spaCy v3.2 and may not be 100% compatible with the current version (3.6.0). If you see errors or degraded performance, download a newer compatible model or retrain your custom model with the current spaCy version. For more details and available updates, run: python -m spacy validate\n",
      "  warnings.warn(warn_msg)\n"
     ]
    }
   ],
   "source": [
    "import spacy\n",
    "from spacy.util import compile_infix_regex\n",
    "\n",
    "# Load the SpaCy English model\n",
    "nlp = spacy.load(\"en_core_web_sm\")\n",
    "\n",
    "# Sample text\n",
    "input_text = text_without_match\n",
    "\n",
    "# Define custom infix patterns to preserve \"<sound>...</sound>\" as one token\n",
    "infixes = [\n",
    "    r\"(?<=\\</sound>)(?=[\\s\\.,;:!?])\",  # Split after '</sound>' followed by punctuation or space\n",
    "    r\"(?<=\\s|[\\<\\>\\.,;:!?])(?=\\<sound\\>)\",  # Split before '<sound>' followed by punctuation or space\n",
    "]\n",
    "\n",
    "# Compile infix regex patterns\n",
    "infix_re = compile_infix_regex(infixes)\n",
    "\n",
    "# Set the custom infix regex as the tokenizer's infix pattern finder\n",
    "nlp.tokenizer.infix_finditer = infix_re.finditer\n",
    "\n",
    "# Tokenize the input text\n",
    "doc = nlp(input_text)\n",
    "\n",
    "# Get the tokens\n",
    "tokens = [token.text for token in doc]\n",
    "\n",
    "# Print the tokens\n",
    "#print(tokens)"
   ]
  },
  {
   "cell_type": "code",
   "execution_count": 7,
   "id": "e8b41648",
   "metadata": {},
   "outputs": [],
   "source": [
    "df = pd.DataFrame(tokens, columns=['tokens'])\n",
    "#df"
   ]
  },
  {
   "cell_type": "code",
   "execution_count": 8,
   "id": "6c85e1fb",
   "metadata": {},
   "outputs": [],
   "source": [
    "#filtered_df['sound_annotation'] = filtered_df['tokens'].str.match(r'sound>(.*?)</sound')\n",
    "df['sound_annotation'] = df['tokens'].str.extract(r'(sound>((.)*)</sound)')[1]"
   ]
  },
  {
   "cell_type": "code",
   "execution_count": 9,
   "id": "003a59cd",
   "metadata": {},
   "outputs": [],
   "source": [
    "length = len(tokens)\n",
    "#print(length)\n",
    "list = ['O']* length \n",
    "#len(list)"
   ]
  },
  {
   "cell_type": "code",
   "execution_count": 10,
   "id": "b4351afd",
   "metadata": {},
   "outputs": [],
   "source": [
    "# Show and controll the data frame before saving it to a csv-file.\n",
    "df['annotation'] = list\n",
    "#df.head(n = 10)"
   ]
  },
  {
   "cell_type": "code",
   "execution_count": 11,
   "id": "4f5a196b",
   "metadata": {},
   "outputs": [],
   "source": [
    "# Iterate over the \"tokens\" column and update the \"annotation\" column\n",
    "for index, row in df.iterrows():\n",
    "    token_text = row[\"tokens\"]\n",
    "    if re.search(r'sound>(.*?)</sound', token_text):\n",
    "        df.at[index, \"annotation\"] = \"sound\"\n"
   ]
  },
  {
   "cell_type": "code",
   "execution_count": 12,
   "id": "0102978a",
   "metadata": {},
   "outputs": [],
   "source": [
    "# Iterate over the DataFrame and update the \"tokens\" column\n",
    "for index, row in df.iterrows():\n",
    "    token_text = row[\"tokens\"]\n",
    "    sound_annotation = row[\"sound_annotation\"]\n",
    "    match = re.search(r'sound>(.*?)</sound', token_text)\n",
    "    if match:\n",
    "        df.at[index, \"tokens\"] = sound_annotation"
   ]
  },
  {
   "cell_type": "code",
   "execution_count": 13,
   "id": "e59cdc93",
   "metadata": {},
   "outputs": [],
   "source": [
    "# Drop rows with empty cells in the \"tokens\" column\n",
    "df = df[df[\"tokens\"].str.strip() != \"\"]\n",
    "df = df[~df[\"tokens\"].str.contains(\"<|>\")]\n",
    "\n",
    "# Reset the index to have continuous row numbers\n",
    "df.reset_index(drop=True, inplace=True)"
   ]
  },
  {
   "cell_type": "code",
   "execution_count": 14,
   "id": "6912b4c1",
   "metadata": {},
   "outputs": [],
   "source": [
    "del df['sound_annotation']"
   ]
  },
  {
   "cell_type": "code",
   "execution_count": 15,
   "id": "785a2090",
   "metadata": {},
   "outputs": [],
   "source": [
    "#df"
   ]
  },
  {
   "cell_type": "code",
   "execution_count": 16,
   "id": "9bc9d066",
   "metadata": {},
   "outputs": [],
   "source": [
    "# Save the DataFrame to a CSV file\n",
    "df.to_csv(\"611Potter1902_anno.csv\", index=False)"
   ]
  },
  {
   "cell_type": "code",
   "execution_count": null,
   "id": "9867b8be",
   "metadata": {},
   "outputs": [],
   "source": []
  },
  {
   "cell_type": "code",
   "execution_count": null,
   "id": "b9198bdc",
   "metadata": {},
   "outputs": [],
   "source": []
  }
 ],
 "metadata": {
  "kernelspec": {
   "display_name": "Python 3 (ipykernel)",
   "language": "python",
   "name": "python3"
  },
  "language_info": {
   "codemirror_mode": {
    "name": "ipython",
    "version": 3
   },
   "file_extension": ".py",
   "mimetype": "text/x-python",
   "name": "python",
   "nbconvert_exporter": "python",
   "pygments_lexer": "ipython3",
   "version": "3.9.7"
  }
 },
 "nbformat": 4,
 "nbformat_minor": 5
}
